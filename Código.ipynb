{
  "nbformat": 4,
  "nbformat_minor": 0,
  "metadata": {
    "colab": {
      "private_outputs": true,
      "provenance": [],
      "gpuType": "T4",
      "authorship_tag": "ABX9TyNtyaL3IS5A9X5F2PhPtfvs",
      "include_colab_link": true
    },
    "kernelspec": {
      "name": "python3",
      "display_name": "Python 3"
    },
    "language_info": {
      "name": "python"
    },
    "accelerator": "GPU"
  },
  "cells": [
    {
      "cell_type": "markdown",
      "metadata": {
        "id": "view-in-github",
        "colab_type": "text"
      },
      "source": [
        "<a href=\"https://colab.research.google.com/github/siqueirago/Sistema-de-recomenda-o-por-imagem/blob/main/C%C3%B3digo.ipynb\" target=\"_parent\"><img src=\"https://colab.research.google.com/assets/colab-badge.svg\" alt=\"Open In Colab\"/></a>"
      ]
    },
    {
      "cell_type": "markdown",
      "source": [
        "# 📓 Notebook – Sistema de Recomendação por Imagens"
      ],
      "metadata": {
        "id": "O6gZCeZEukBr"
      }
    },
    {
      "cell_type": "code",
      "execution_count": null,
      "metadata": {
        "id": "68vh7v5SuLa-"
      },
      "outputs": [],
      "source": [
        "# 1. Importar bibliotecas\n",
        "import numpy as np\n",
        "import matplotlib.pyplot as plt\n",
        "import tensorflow as tf\n",
        "from tensorflow.keras.applications import resnet50\n",
        "from sklearn.neighbors import NearestNeighbors"
      ]
    },
    {
      "cell_type": "code",
      "source": [
        "# 2. Carregar dataset Fashion MNIST\n",
        "(x_train, y_train), (x_test, y_test) = tf.keras.datasets.fashion_mnist.load_data()"
      ],
      "metadata": {
        "id": "-GRKirV1vSJK"
      },
      "execution_count": null,
      "outputs": []
    },
    {
      "cell_type": "code",
      "source": [
        "# Expandir para 3 canais (RGB)\n",
        "x_train = np.stack((x_train,)*3, axis=-1)\n",
        "x_test = np.stack((x_test,)*3, axis=-1)\n",
        "\n",
        "# Normalizar\n",
        "x_train = x_train.astype(\"float32\")\n",
        "x_test = x_test.astype(\"float32\")\n",
        "\n",
        "print(\"Formato do dataset:\", x_train.shape, y_train.shape)"
      ],
      "metadata": {
        "id": "x2NcFeb6vZIa"
      },
      "execution_count": null,
      "outputs": []
    },
    {
      "cell_type": "code",
      "source": [
        "# 3. Carregar modelo pré-treinado\n",
        "base_model = resnet50.ResNet50(weights='imagenet', include_top=False, pooling='avg')\n",
        "\n",
        "def extract_features(img_array, model=base_model):\n",
        "    \"\"\"Extrai embedding de uma imagem\"\"\"\n",
        "    img = tf.image.resize(img_array, (224, 224))\n",
        "    x = np.expand_dims(img, axis=0).astype(\"float32\")\n",
        "    x = x.copy()\n",
        "    x = resnet50.preprocess_input(x)\n",
        "    features = model.predict(x, verbose=0)\n",
        "    return features.flatten()"
      ],
      "metadata": {
        "id": "vsqvJyV7vhsZ"
      },
      "execution_count": null,
      "outputs": []
    },
    {
      "cell_type": "code",
      "source": [
        "# 4. Extrair features para um subconjunto (para economizar tempo no Colab)\n",
        "N = 5000  # número de imagens utilizadas\n",
        "features_list = []\n",
        "for i in range(N):\n",
        "    features_list.append(extract_features(x_train[i]))\n",
        "features_list = np.array(features_list)\n",
        "\n",
        "print(\"Shape dos vetores de características:\", features_list.shape)"
      ],
      "metadata": {
        "id": "p_rEsWvyvs2p"
      },
      "execution_count": null,
      "outputs": []
    },
    {
      "cell_type": "code",
      "source": [
        "# 5. Criar índice de vizinhos\n",
        "nn = NearestNeighbors(n_neighbors=5, metric='cosine')\n",
        "nn.fit(features_list)"
      ],
      "metadata": {
        "id": "8FWwuovu3QJk"
      },
      "execution_count": null,
      "outputs": []
    },
    {
      "cell_type": "code",
      "source": [
        "## Função de Recomendação\n",
        "\n",
        "def recommend(query_idx):\n",
        "    \"\"\"Mostra recomendações dado o índice de uma imagem\"\"\"\n",
        "    query_img = x_train[query_idx]\n",
        "    query_feat = extract_features(query_img).reshape(1, -1)\n",
        "    distances, indices = nn.kneighbors(query_feat)\n",
        "\n",
        "    plt.figure(figsize=(12, 6))\n",
        "    plt.subplot(1, 6, 1)\n",
        "    plt.imshow(query_img.squeeze(), cmap=\"gray\")\n",
        "    plt.title(\"Consulta\")\n",
        "    plt.axis(\"off\")\n",
        "\n",
        "    for i, idx in enumerate(indices[0]):\n",
        "        plt.subplot(1, 6, i+2)\n",
        "        plt.imshow(x_train[idx].squeeze(), cmap=\"gray\")\n",
        "        plt.title(f\"Sim {i+1}\")\n",
        "        plt.axis(\"off\")\n",
        "\n",
        "    plt.show()"
      ],
      "metadata": {
        "id": "bucHM99D3Y0R"
      },
      "execution_count": null,
      "outputs": []
    },
    {
      "cell_type": "code",
      "source": [
        "# Testar recomendação com a imagem de índice 10\n",
        "recommend(123)"
      ],
      "metadata": {
        "id": "pEJ2G5Ty3kuZ"
      },
      "execution_count": null,
      "outputs": []
    }
  ]
}